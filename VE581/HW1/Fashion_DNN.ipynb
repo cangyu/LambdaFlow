{
  "nbformat": 4,
  "nbformat_minor": 0,
  "metadata": {
    "colab": {
      "name": "Fashion-DNN.ipynb",
      "version": "0.3.2",
      "provenance": [],
      "collapsed_sections": []
    },
    "kernelspec": {
      "name": "python3",
      "display_name": "Python 3"
    },
    "accelerator": "GPU"
  },
  "cells": [
    {
      "cell_type": "code",
      "metadata": {
        "id": "NXalien8M7Ll",
        "colab_type": "code",
        "colab": {}
      },
      "source": [
        "import tensorflow as tf\n",
        "import numpy as np\n",
        "import random"
      ],
      "execution_count": 0,
      "outputs": []
    },
    {
      "cell_type": "markdown",
      "metadata": {
        "id": "6jEuNOgfNjC0",
        "colab_type": "text"
      },
      "source": [
        "Loading dataset..."
      ]
    },
    {
      "cell_type": "code",
      "metadata": {
        "id": "91aOiFV4NkcM",
        "colab_type": "code",
        "outputId": "cfdb1b4f-16a9-402a-839d-07d33e5d3f1a",
        "colab": {
          "base_uri": "https://localhost:8080/",
          "height": 119
        }
      },
      "source": [
        "(x_train, y_train), (x_test, y_test) = tf.keras.datasets.fashion_mnist.load_data()\n",
        "label_name = ['T-shirt/top', 'Trouser', 'Pullover', 'Dress', 'Coat', 'Sandal', 'Shirt', 'Sneaker', 'Bag', 'Ankle boot']\n",
        "\n",
        "print(\"Brief on training dataset:\")\n",
        "print(\"  Num of figures: {:d}\".format(y_train.shape[0]))\n",
        "print(\"  Size of figure: {:d}x{:d}\".format(x_train.shape[1], x_train.shape[2]))\n",
        "print(\"Brief on testing dataset:\")\n",
        "print(\"  Num of figures: {:d}\".format(y_test.shape[0]))\n",
        "print(\"  Size of figure: {:d}x{:d}\".format(x_test.shape[1], x_test.shape[2]))"
      ],
      "execution_count": 22,
      "outputs": [
        {
          "output_type": "stream",
          "text": [
            "Brief on training dataset:\n",
            "  Num of figures: 60000\n",
            "  Size of figure: 28x28\n",
            "Brief on testing dataset:\n",
            "  Num of figures: 10000\n",
            "  Size of figure: 28x28\n"
          ],
          "name": "stdout"
        }
      ]
    },
    {
      "cell_type": "markdown",
      "metadata": {
        "id": "hAScgl3UNpSF",
        "colab_type": "text"
      },
      "source": [
        "Building model..."
      ]
    },
    {
      "cell_type": "code",
      "metadata": {
        "id": "NMGw-ns-NqU1",
        "colab_type": "code",
        "colab": {
          "base_uri": "https://localhost:8080/",
          "height": 255
        },
        "outputId": "aae9eeb5-7b97-4920-fc21-f52226f1f60e"
      },
      "source": [
        "model = tf.keras.models.Sequential()\n",
        "\n",
        "model.add(tf.keras.layers.Flatten(input_shape=(x_train.shape[1], x_train.shape[2])))\n",
        "\n",
        "model.add(tf.keras.layers.Dense(128, activation='relu'))\n",
        "\n",
        "model.add(tf.keras.layers.Dense(10, activation='softmax'))\n",
        "\n",
        "model.summary()"
      ],
      "execution_count": 16,
      "outputs": [
        {
          "output_type": "stream",
          "text": [
            "Model: \"sequential_5\"\n",
            "_________________________________________________________________\n",
            "Layer (type)                 Output Shape              Param #   \n",
            "=================================================================\n",
            "flatten_3 (Flatten)          (None, 784)               0         \n",
            "_________________________________________________________________\n",
            "dense_12 (Dense)             (None, 128)               100480    \n",
            "_________________________________________________________________\n",
            "dense_13 (Dense)             (None, 10)                1290      \n",
            "=================================================================\n",
            "Total params: 101,770\n",
            "Trainable params: 101,770\n",
            "Non-trainable params: 0\n",
            "_________________________________________________________________\n"
          ],
          "name": "stdout"
        }
      ]
    },
    {
      "cell_type": "markdown",
      "metadata": {
        "id": "PAcn8lmSj-Zb",
        "colab_type": "text"
      },
      "source": [
        "Compiling model..."
      ]
    },
    {
      "cell_type": "code",
      "metadata": {
        "id": "L1UCualpj8-n",
        "colab_type": "code",
        "colab": {}
      },
      "source": [
        "loc_optimizer = tf.keras.optimizers.Adam(lr=1e-3, )\n",
        "loc_loss = tf.keras.losses.sparse_categorical_crossentropy\n",
        "loc_metrics = ['sparse_categorical_accuracy']\n",
        "model.compile(optimizer=loc_optimizer,loss=loc_loss,metrics=loc_metrics)"
      ],
      "execution_count": 0,
      "outputs": []
    },
    {
      "cell_type": "markdown",
      "metadata": {
        "id": "HRs_d_mAkIny",
        "colab_type": "text"
      },
      "source": [
        "Fitting model..."
      ]
    },
    {
      "cell_type": "code",
      "metadata": {
        "id": "Yg3SLJQmkOOd",
        "colab_type": "code",
        "colab": {
          "base_uri": "https://localhost:8080/",
          "height": 578
        },
        "outputId": "a983c1d8-92da-4898-83ba-813bd067a6ed"
      },
      "source": [
        "model.fit(x_train.astype(np.float32), y_train.astype(np.float32), verbose = 1, batch_size = 128, epochs=16)"
      ],
      "execution_count": 18,
      "outputs": [
        {
          "output_type": "stream",
          "text": [
            "Epoch 1/16\n",
            "60000/60000 [==============================] - 1s 19us/sample - loss: 7.7361 - sparse_categorical_accuracy: 0.7074\n",
            "Epoch 2/16\n",
            "60000/60000 [==============================] - 1s 18us/sample - loss: 0.9055 - sparse_categorical_accuracy: 0.7111\n",
            "Epoch 3/16\n",
            "60000/60000 [==============================] - 1s 17us/sample - loss: 0.7073 - sparse_categorical_accuracy: 0.7354\n",
            "Epoch 4/16\n",
            "60000/60000 [==============================] - 1s 17us/sample - loss: 0.6135 - sparse_categorical_accuracy: 0.7652\n",
            "Epoch 5/16\n",
            "60000/60000 [==============================] - 1s 17us/sample - loss: 0.5453 - sparse_categorical_accuracy: 0.7877\n",
            "Epoch 6/16\n",
            "60000/60000 [==============================] - 1s 17us/sample - loss: 0.5173 - sparse_categorical_accuracy: 0.7977\n",
            "Epoch 7/16\n",
            "60000/60000 [==============================] - 1s 16us/sample - loss: 0.4831 - sparse_categorical_accuracy: 0.8162\n",
            "Epoch 8/16\n",
            "60000/60000 [==============================] - 1s 17us/sample - loss: 0.4592 - sparse_categorical_accuracy: 0.8286\n",
            "Epoch 9/16\n",
            "60000/60000 [==============================] - 1s 17us/sample - loss: 0.4379 - sparse_categorical_accuracy: 0.8413\n",
            "Epoch 10/16\n",
            "60000/60000 [==============================] - 1s 16us/sample - loss: 0.4248 - sparse_categorical_accuracy: 0.8465\n",
            "Epoch 11/16\n",
            "60000/60000 [==============================] - 1s 17us/sample - loss: 0.4191 - sparse_categorical_accuracy: 0.8481\n",
            "Epoch 12/16\n",
            "60000/60000 [==============================] - 1s 17us/sample - loss: 0.4119 - sparse_categorical_accuracy: 0.8509\n",
            "Epoch 13/16\n",
            "60000/60000 [==============================] - 1s 17us/sample - loss: 0.4010 - sparse_categorical_accuracy: 0.8547\n",
            "Epoch 14/16\n",
            "60000/60000 [==============================] - 1s 16us/sample - loss: 0.3910 - sparse_categorical_accuracy: 0.8577\n",
            "Epoch 15/16\n",
            "60000/60000 [==============================] - 1s 16us/sample - loss: 0.3905 - sparse_categorical_accuracy: 0.8590\n",
            "Epoch 16/16\n",
            "60000/60000 [==============================] - 1s 16us/sample - loss: 0.3813 - sparse_categorical_accuracy: 0.8608\n"
          ],
          "name": "stdout"
        },
        {
          "output_type": "execute_result",
          "data": {
            "text/plain": [
              "<tensorflow.python.keras.callbacks.History at 0x7fb978aa08d0>"
            ]
          },
          "metadata": {
            "tags": []
          },
          "execution_count": 18
        }
      ]
    },
    {
      "cell_type": "markdown",
      "metadata": {
        "id": "2OiOitr1nDvG",
        "colab_type": "text"
      },
      "source": [
        "Evaluating model..."
      ]
    },
    {
      "cell_type": "code",
      "metadata": {
        "id": "AKEulJpCnFYw",
        "colab_type": "code",
        "colab": {
          "base_uri": "https://localhost:8080/",
          "height": 68
        },
        "outputId": "dae7b0ab-7307-4f5e-be02-bdbfca2eae5c"
      },
      "source": [
        "score = model.evaluate(x_test.astype(np.float32), y_test.astype(np.float32), verbose = 1)\n",
        "print(\"Loss: \", score[0])\n",
        "print(\"Accuracy: \", score[1])"
      ],
      "execution_count": 26,
      "outputs": [
        {
          "output_type": "stream",
          "text": [
            "10000/10000 [==============================] - 0s 44us/sample - loss: 0.4704 - sparse_categorical_accuracy: 0.8399\n",
            "Loss:  0.470415358877182\n",
            "Accuracy:  0.8399\n"
          ],
          "name": "stdout"
        }
      ]
    },
    {
      "cell_type": "markdown",
      "metadata": {
        "id": "n_oHxuB2x5zV",
        "colab_type": "text"
      },
      "source": [
        "Predicting..."
      ]
    },
    {
      "cell_type": "code",
      "metadata": {
        "id": "Z7uMTqrGx7Fu",
        "colab_type": "code",
        "colab": {
          "base_uri": "https://localhost:8080/",
          "height": 221
        },
        "outputId": "a778018a-211c-4c51-abef-46445812c014"
      },
      "source": [
        "print(\"Choosing 10 figures randomly from testing dataset: \")\n",
        "\n",
        "idx = []\n",
        "cnt = 0\n",
        "while cnt < 10:\n",
        "  loc_idx = random.randint(0, 10000)\n",
        "  if loc_idx not in idx:\n",
        "    idx.append(loc_idx)\n",
        "    cnt = cnt + 1\n",
        "\n",
        "pred = model.predict_classes(np.array([x_test[e] for e in idx]))\n",
        "\n",
        "print(\"{:>8s}{:>18s}{:>18s}{:>12s}\".format(\"Index\", \"Prediction\", \"Actual\", \"Judgement\"))\n",
        "for i in range(10):\n",
        "  loc_idx = idx[i]\n",
        "  loc_pred = label_name[pred[i]]\n",
        "  loc_ans = label_name[y_test[idx[i]]]\n",
        "  loc_judge = pred[i]== y_test[idx[i]]\n",
        "  print(\"{:>8d}{:>18s}{:>18s}{:>12b}\".format(loc_idx, loc_pred, loc_ans, loc_judge))"
      ],
      "execution_count": 28,
      "outputs": [
        {
          "output_type": "stream",
          "text": [
            "Choosing 10 figures randomly from testing dataset: \n",
            "   Index        Prediction            Actual   Judgement\n",
            "    1355        Ankle boot        Ankle boot           1\n",
            "    8289           Trouser           Trouser           1\n",
            "    2573             Dress              Coat           0\n",
            "     406          Pullover             Shirt           0\n",
            "    2892          Pullover          Pullover           1\n",
            "    7652              Coat          Pullover           0\n",
            "    1913           Trouser           Trouser           1\n",
            "    5559               Bag               Bag           1\n",
            "    1719              Coat              Coat           1\n",
            "    4365          Pullover             Shirt           0\n"
          ],
          "name": "stdout"
        }
      ]
    }
  ]
}