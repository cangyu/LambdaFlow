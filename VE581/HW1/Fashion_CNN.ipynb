{
  "nbformat": 4,
  "nbformat_minor": 0,
  "metadata": {
    "colab": {
      "name": "Fashion-CNN.ipynb",
      "version": "0.3.2",
      "provenance": [],
      "collapsed_sections": []
    },
    "kernelspec": {
      "name": "python3",
      "display_name": "Python 3"
    },
    "accelerator": "GPU"
  },
  "cells": [
    {
      "cell_type": "code",
      "metadata": {
        "id": "T--T8PpgE2R4",
        "colab_type": "code",
        "colab": {}
      },
      "source": [
        "import tensorflow as tf\n",
        "import numpy as np\n",
        "import random\n",
        "from matplotlib import pyplot as plt"
      ],
      "execution_count": 0,
      "outputs": []
    },
    {
      "cell_type": "markdown",
      "metadata": {
        "id": "B9vczI4mJShc",
        "colab_type": "text"
      },
      "source": [
        "Loading dataset..."
      ]
    },
    {
      "cell_type": "code",
      "metadata": {
        "id": "Czh76j5HFH3L",
        "colab_type": "code",
        "colab": {
          "base_uri": "https://localhost:8080/",
          "height": 125
        },
        "outputId": "f0611335-7c0b-4698-eeb0-bc85446b4212"
      },
      "source": [
        "(x_train, y_train), (x_test, y_test) = tf.keras.datasets.fashion_mnist.load_data()\n",
        "label_name = ['T-shirt/top', 'Trouser', 'Pullover', 'Dress', 'Coat', 'Sandal', 'Shirt', 'Sneaker', 'Bag', 'Ankle boot']\n",
        "\n",
        "x_train = np.expand_dims(x_train, -1)\n",
        "x_test = np.expand_dims(x_test, -1)\n",
        "\n",
        "print(\"Brief on training dataset:\")\n",
        "print(\"  Num of figures: {:d}\".format(y_train.shape[0]))\n",
        "print(\"  Size of figure: {:d}x{:d}\".format(x_train.shape[1], x_train.shape[2]))\n",
        "print(\"Brief on testing dataset:\")\n",
        "print(\"  Num of figures: {:d}\".format(y_test.shape[0]))\n",
        "print(\"  Size of figure: {:d}x{:d}\".format(x_test.shape[1], x_test.shape[2]))"
      ],
      "execution_count": 10,
      "outputs": [
        {
          "output_type": "stream",
          "text": [
            "Brief on training dataset:\n",
            "  Num of figures: 60000\n",
            "  Size of figure: 28x28\n",
            "Brief on testing dataset:\n",
            "  Num of figures: 10000\n",
            "  Size of figure: 28x28\n"
          ],
          "name": "stdout"
        }
      ]
    },
    {
      "cell_type": "markdown",
      "metadata": {
        "id": "cquZ8L1HJf_c",
        "colab_type": "text"
      },
      "source": [
        "Building model..."
      ]
    },
    {
      "cell_type": "code",
      "metadata": {
        "id": "Zdjj8VxOFi8b",
        "colab_type": "code",
        "colab": {
          "base_uri": "https://localhost:8080/",
          "height": 737
        },
        "outputId": "2409d47b-d08a-4010-a026-1ed316defa28"
      },
      "source": [
        "model = tf.keras.models.Sequential()\n",
        "\n",
        "model.add(tf.keras.layers.BatchNormalization(input_shape=x_train.shape[1:]))\n",
        "model.add(tf.keras.layers.Conv2D(32, (3, 3), padding='same', activation='relu'))\n",
        "\n",
        "model.add(tf.keras.layers.BatchNormalization(input_shape=x_train.shape[1:]))\n",
        "model.add(tf.keras.layers.Conv2D(64, (3, 3), padding='same', activation='relu'))\n",
        "model.add(tf.keras.layers.MaxPooling2D(pool_size=(2, 2)))\n",
        "model.add(tf.keras.layers.Dropout(0.25))\n",
        "\n",
        "model.add(tf.keras.layers.BatchNormalization(input_shape=x_train.shape[1:]))\n",
        "model.add(tf.keras.layers.Conv2D(128, (3, 3), padding='same', activation='relu'))\n",
        "model.add(tf.keras.layers.MaxPooling2D(pool_size=(2, 2), strides=(2,2)))\n",
        "model.add(tf.keras.layers.Dropout(0.25))\n",
        "\n",
        "model.add(tf.keras.layers.Flatten())\n",
        "model.add(tf.keras.layers.Dense(128))\n",
        "model.add(tf.keras.layers.Activation('elu'))\n",
        "model.add(tf.keras.layers.Dropout(0.5))\n",
        "model.add(tf.keras.layers.Dense(10))\n",
        "model.add(tf.keras.layers.Activation('softmax'))\n",
        "\n",
        "model.summary()"
      ],
      "execution_count": 11,
      "outputs": [
        {
          "output_type": "stream",
          "text": [
            "Model: \"sequential_1\"\n",
            "_________________________________________________________________\n",
            "Layer (type)                 Output Shape              Param #   \n",
            "=================================================================\n",
            "batch_normalization_3 (Batch (None, 28, 28, 1)         4         \n",
            "_________________________________________________________________\n",
            "conv2d_3 (Conv2D)            (None, 28, 28, 32)        320       \n",
            "_________________________________________________________________\n",
            "batch_normalization_4 (Batch (None, 28, 28, 32)        128       \n",
            "_________________________________________________________________\n",
            "conv2d_4 (Conv2D)            (None, 28, 28, 64)        18496     \n",
            "_________________________________________________________________\n",
            "max_pooling2d_2 (MaxPooling2 (None, 14, 14, 64)        0         \n",
            "_________________________________________________________________\n",
            "dropout_3 (Dropout)          (None, 14, 14, 64)        0         \n",
            "_________________________________________________________________\n",
            "batch_normalization_5 (Batch (None, 14, 14, 64)        256       \n",
            "_________________________________________________________________\n",
            "conv2d_5 (Conv2D)            (None, 14, 14, 128)       73856     \n",
            "_________________________________________________________________\n",
            "max_pooling2d_3 (MaxPooling2 (None, 7, 7, 128)         0         \n",
            "_________________________________________________________________\n",
            "dropout_4 (Dropout)          (None, 7, 7, 128)         0         \n",
            "_________________________________________________________________\n",
            "flatten_1 (Flatten)          (None, 6272)              0         \n",
            "_________________________________________________________________\n",
            "dense_2 (Dense)              (None, 128)               802944    \n",
            "_________________________________________________________________\n",
            "activation_2 (Activation)    (None, 128)               0         \n",
            "_________________________________________________________________\n",
            "dropout_5 (Dropout)          (None, 128)               0         \n",
            "_________________________________________________________________\n",
            "dense_3 (Dense)              (None, 10)                1290      \n",
            "_________________________________________________________________\n",
            "activation_3 (Activation)    (None, 10)                0         \n",
            "=================================================================\n",
            "Total params: 897,294\n",
            "Trainable params: 897,100\n",
            "Non-trainable params: 194\n",
            "_________________________________________________________________\n"
          ],
          "name": "stdout"
        }
      ]
    },
    {
      "cell_type": "markdown",
      "metadata": {
        "id": "hQRB-BXCJLdl",
        "colab_type": "text"
      },
      "source": [
        "Compiling model..."
      ]
    },
    {
      "cell_type": "code",
      "metadata": {
        "id": "BgTAmnWHFZ60",
        "colab_type": "code",
        "colab": {}
      },
      "source": [
        "loc_optimizer = tf.keras.optimizers.Adam(lr=1e-3, )\n",
        "loc_loss = tf.keras.losses.sparse_categorical_crossentropy\n",
        "loc_metrics = ['sparse_categorical_accuracy']\n",
        "model.compile(optimizer=loc_optimizer,loss=loc_loss,metrics=loc_metrics)"
      ],
      "execution_count": 0,
      "outputs": []
    },
    {
      "cell_type": "markdown",
      "metadata": {
        "id": "cCSE3iXVJvJs",
        "colab_type": "text"
      },
      "source": [
        "Fitting model..."
      ]
    },
    {
      "cell_type": "code",
      "metadata": {
        "id": "Zikit6idFkJj",
        "colab_type": "code",
        "colab": {
          "base_uri": "https://localhost:8080/",
          "height": 611
        },
        "outputId": "749a101b-ca68-4810-c8d4-47f7cf12b21f"
      },
      "source": [
        "model.fit(x_train.astype(np.float32), y_train.astype(np.float32), verbose = 1, batch_size = 128, epochs=16)"
      ],
      "execution_count": 13,
      "outputs": [
        {
          "output_type": "stream",
          "text": [
            "Epoch 1/16\n",
            "60000/60000 [==============================] - 14s 226us/sample - loss: 0.8006 - sparse_categorical_accuracy: 0.7450\n",
            "Epoch 2/16\n",
            "60000/60000 [==============================] - 13s 219us/sample - loss: 0.4313 - sparse_categorical_accuracy: 0.8481\n",
            "Epoch 3/16\n",
            "60000/60000 [==============================] - 13s 219us/sample - loss: 0.3271 - sparse_categorical_accuracy: 0.8835\n",
            "Epoch 4/16\n",
            "60000/60000 [==============================] - 13s 219us/sample - loss: 0.2794 - sparse_categorical_accuracy: 0.8992\n",
            "Epoch 5/16\n",
            "60000/60000 [==============================] - 13s 220us/sample - loss: 0.2471 - sparse_categorical_accuracy: 0.9112\n",
            "Epoch 6/16\n",
            "60000/60000 [==============================] - 13s 219us/sample - loss: 0.2276 - sparse_categorical_accuracy: 0.9183\n",
            "Epoch 7/16\n",
            "60000/60000 [==============================] - 13s 218us/sample - loss: 0.2128 - sparse_categorical_accuracy: 0.9228\n",
            "Epoch 8/16\n",
            "60000/60000 [==============================] - 13s 219us/sample - loss: 0.1998 - sparse_categorical_accuracy: 0.9263\n",
            "Epoch 9/16\n",
            "60000/60000 [==============================] - 13s 219us/sample - loss: 0.1877 - sparse_categorical_accuracy: 0.9315\n",
            "Epoch 10/16\n",
            "60000/60000 [==============================] - 13s 219us/sample - loss: 0.1811 - sparse_categorical_accuracy: 0.9330\n",
            "Epoch 11/16\n",
            "60000/60000 [==============================] - 13s 219us/sample - loss: 0.1716 - sparse_categorical_accuracy: 0.9372\n",
            "Epoch 12/16\n",
            "60000/60000 [==============================] - 13s 219us/sample - loss: 0.1609 - sparse_categorical_accuracy: 0.9409\n",
            "Epoch 13/16\n",
            "60000/60000 [==============================] - 13s 219us/sample - loss: 0.1528 - sparse_categorical_accuracy: 0.9419\n",
            "Epoch 14/16\n",
            "60000/60000 [==============================] - 13s 220us/sample - loss: 0.1491 - sparse_categorical_accuracy: 0.9438\n",
            "Epoch 15/16\n",
            "60000/60000 [==============================] - 13s 220us/sample - loss: 0.1411 - sparse_categorical_accuracy: 0.9480\n",
            "Epoch 16/16\n",
            "60000/60000 [==============================] - 13s 218us/sample - loss: 0.1347 - sparse_categorical_accuracy: 0.9503\n"
          ],
          "name": "stdout"
        },
        {
          "output_type": "execute_result",
          "data": {
            "text/plain": [
              "<tensorflow.python.keras.callbacks.History at 0x7f4c602e4978>"
            ]
          },
          "metadata": {
            "tags": []
          },
          "execution_count": 13
        }
      ]
    },
    {
      "cell_type": "markdown",
      "metadata": {
        "id": "v1e4XeRXJ8G0",
        "colab_type": "text"
      },
      "source": [
        "Evaluating model..."
      ]
    },
    {
      "cell_type": "code",
      "metadata": {
        "id": "niuu8BmDFrgD",
        "colab_type": "code",
        "colab": {
          "base_uri": "https://localhost:8080/",
          "height": 71
        },
        "outputId": "211a22c4-f622-4b5c-8dda-ddbca11c16f4"
      },
      "source": [
        "score = model.evaluate(x_test.astype(np.float32), y_test.astype(np.float32), verbose = 1)\n",
        "print(\"Loss: \", score[0])\n",
        "print(\"Accuracy: \", score[1])"
      ],
      "execution_count": 14,
      "outputs": [
        {
          "output_type": "stream",
          "text": [
            "10000/10000 [==============================] - 2s 151us/sample - loss: 0.2010 - sparse_categorical_accuracy: 0.9341\n",
            "Loss:  0.20095196058303116\n",
            "Accuracy:  0.9341\n"
          ],
          "name": "stdout"
        }
      ]
    },
    {
      "cell_type": "markdown",
      "metadata": {
        "id": "DotC0pGvnXIH",
        "colab_type": "text"
      },
      "source": [
        "Predicting..."
      ]
    },
    {
      "cell_type": "code",
      "metadata": {
        "id": "L2WyrWCdnY3B",
        "colab_type": "code",
        "outputId": "d761a466-4076-4713-d5f5-f1a9a7505adb",
        "colab": {
          "base_uri": "https://localhost:8080/",
          "height": 499
        }
      },
      "source": [
        "print(\"Choosing 10 figures randomly from testing dataset: \")\n",
        "\n",
        "idx = []\n",
        "cnt = 0\n",
        "while cnt < 10:\n",
        "  loc_idx = random.randint(0, 10000)\n",
        "  if loc_idx not in idx:\n",
        "    idx.append(loc_idx)\n",
        "    cnt = cnt + 1\n",
        "\n",
        "pred = model.predict_classes(np.array([x_test[e] for e in idx]))\n",
        "judgement = []\n",
        "\n",
        "print(\"{:>8s}{:>18s}{:>18s}{:>12s}\".format(\"Index\", \"Prediction\", \"Actual\", \"Judgement\"))\n",
        "for i in range(10):\n",
        "  loc_idx = idx[i]\n",
        "  loc_pred = label_name[pred[i]]\n",
        "  loc_ans = label_name[y_test[idx[i]]]\n",
        "  loc_judge = pred[i]== y_test[idx[i]]\n",
        "  judgement.append(loc_judge)\n",
        "  print(\"{:>8d}{:>18s}{:>18s}{:>12b}\".format(loc_idx, loc_pred, loc_ans, loc_judge))\n",
        "  \n",
        "for i in range(10):\n",
        "  if not judgement[i]:\n",
        "    loc_idx = idx[i]\n",
        "    plt.figure()\n",
        "    loc_img = np.squeeze(x_test[loc_idx])\n",
        "    plt.imshow(loc_img)\n",
        "    plt.colorbar()\n",
        "    plt.grid(False)\n",
        "    plt.xlabel(\"{:s} is mistaken for {:s}\".format(label_name[y_test[loc_idx]], label_name[pred[i]]))"
      ],
      "execution_count": 15,
      "outputs": [
        {
          "output_type": "stream",
          "text": [
            "Choosing 10 figures randomly from testing dataset: \n",
            "   Index        Prediction            Actual   Judgement\n",
            "    3467       T-shirt/top       T-shirt/top           1\n",
            "      74          Pullover          Pullover           1\n",
            "     651       T-shirt/top       T-shirt/top           1\n",
            "    1408             Shirt              Coat           0\n",
            "    3201       T-shirt/top       T-shirt/top           1\n",
            "    6617             Shirt             Shirt           1\n",
            "    1687             Dress             Dress           1\n",
            "    5278           Trouser           Trouser           1\n",
            "     685              Coat              Coat           1\n",
            "    1706             Shirt             Shirt           1\n"
          ],
          "name": "stdout"
        },
        {
          "output_type": "display_data",
          "data": {
            "image/png": "[encoded data removed]",
            "text/plain": [
              "<Figure size 432x288 with 2 Axes>"
            ]
          },
          "metadata": {
            "tags": []
          }
        }
      ]
    },
    {
      "cell_type": "markdown",
      "metadata": {
        "id": "FcGHBpQk0wwh",
        "colab_type": "text"
      },
      "source": [
        "Error Analysis"
      ]
    },
    {
      "cell_type": "code",
      "metadata": {
        "id": "HHfkihUH0PmB",
        "colab_type": "code",
        "outputId": "38ce4e59-c9eb-4801-cbfa-04bc2f574238",
        "colab": {
          "base_uri": "https://localhost:8080/",
          "height": 35
        }
      },
      "source": [
        "import pandas as pd\n",
        "\n",
        "y_pred=model.predict_classes(x_test)\n",
        "con_mat = tf.confusion_matrix(labels=y_test, predictions=y_pred)\n",
        "print(con_mat)"
      ],
      "execution_count": 16,
      "outputs": [
        {
          "output_type": "stream",
          "text": [
            "Tensor(\"confusion_matrix_1/SparseTensorDenseAdd:0\", shape=(10, 10), dtype=int32)\n"
          ],
          "name": "stdout"
        }
      ]
    }
  ]
}