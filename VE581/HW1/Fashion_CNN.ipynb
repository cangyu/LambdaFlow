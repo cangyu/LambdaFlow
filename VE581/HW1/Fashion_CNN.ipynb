{
  "nbformat": 4,
  "nbformat_minor": 0,
  "metadata": {
    "colab": {
      "name": "Fashion-CNN.ipynb",
      "version": "0.3.2",
      "provenance": [],
      "collapsed_sections": []
    },
    "kernelspec": {
      "name": "python3",
      "display_name": "Python 3"
    },
    "accelerator": "GPU"
  },
  "cells": [
    {
      "cell_type": "code",
      "metadata": {
        "id": "T--T8PpgE2R4",
        "colab_type": "code",
        "colab": {}
      },
      "source": [
        "import tensorflow as tf\n",
        "import numpy as np\n",
        "import random\n",
        "from matplotlib import pyplot as plt"
      ],
      "execution_count": 0,
      "outputs": []
    },
    {
      "cell_type": "markdown",
      "metadata": {
        "id": "B9vczI4mJShc",
        "colab_type": "text"
      },
      "source": [
        "Loading dataset..."
      ]
    },
    {
      "cell_type": "code",
      "metadata": {
        "id": "Czh76j5HFH3L",
        "colab_type": "code",
        "colab": {}
      },
      "source": [
        "(x_train, y_train), (x_test, y_test) = tf.keras.datasets.fashion_mnist.load_data()\n",
        "label_name = ['T-shirt/top', 'Trouser', 'Pullover', 'Dress', 'Coat', 'Sandal', 'Shirt', 'Sneaker', 'Bag', 'Ankle boot']\n",
        "\n",
        "x_train = np.expand_dims(x_train, -1)\n",
        "x_test = np.expand_dims(x_test, -1)\n",
        "\n",
        "print(\"Brief on training dataset:\")\n",
        "print(\"  Num of figures: {:d}\".format(y_train.shape[0]))\n",
        "print(\"  Size of figure: {:d}x{:d}\".format(x_train.shape[1], x_train.shape[2]))\n",
        "print(\"Brief on testing dataset:\")\n",
        "print(\"  Num of figures: {:d}\".format(y_test.shape[0]))\n",
        "print(\"  Size of figure: {:d}x{:d}\".format(x_test.shape[1], x_test.shape[2]))"
      ],
      "execution_count": 0,
      "outputs": []
    },
    {
      "cell_type": "markdown",
      "metadata": {
        "id": "cquZ8L1HJf_c",
        "colab_type": "text"
      },
      "source": [
        "Building model..."
      ]
    },
    {
      "cell_type": "code",
      "metadata": {
        "id": "Zdjj8VxOFi8b",
        "colab_type": "code",
        "colab": {}
      },
      "source": [
        "model = tf.keras.models.Sequential()\n",
        "\n",
        "model.add(tf.keras.layers.BatchNormalization(input_shape=x_train.shape[1:]))\n",
        "model.add(tf.keras.layers.Conv2D(32, (3, 3), padding='same', activation='relu'))\n",
        "\n",
        "model.add(tf.keras.layers.BatchNormalization(input_shape=x_train.shape[1:]))\n",
        "model.add(tf.keras.layers.Conv2D(64, (3, 3), padding='same', activation='relu'))\n",
        "model.add(tf.keras.layers.MaxPooling2D(pool_size=(2, 2)))\n",
        "model.add(tf.keras.layers.Dropout(0.25))\n",
        "\n",
        "model.add(tf.keras.layers.BatchNormalization(input_shape=x_train.shape[1:]))\n",
        "model.add(tf.keras.layers.Conv2D(128, (3, 3), padding='same', activation='relu'))\n",
        "model.add(tf.keras.layers.MaxPooling2D(pool_size=(2, 2), strides=(2,2)))\n",
        "model.add(tf.keras.layers.Dropout(0.25))\n",
        "\n",
        "model.add(tf.keras.layers.Flatten())\n",
        "model.add(tf.keras.layers.Dense(128))\n",
        "model.add(tf.keras.layers.Activation('elu'))\n",
        "model.add(tf.keras.layers.Dropout(0.5))\n",
        "model.add(tf.keras.layers.Dense(10))\n",
        "model.add(tf.keras.layers.Activation('softmax'))\n",
        "\n",
        "model.summary()"
      ],
      "execution_count": 0,
      "outputs": []
    },
    {
      "cell_type": "markdown",
      "metadata": {
        "id": "hQRB-BXCJLdl",
        "colab_type": "text"
      },
      "source": [
        "Compiling model..."
      ]
    },
    {
      "cell_type": "code",
      "metadata": {
        "id": "BgTAmnWHFZ60",
        "colab_type": "code",
        "colab": {}
      },
      "source": [
        "loc_optimizer = tf.keras.optimizers.Adam(lr=1e-3, )\n",
        "loc_loss = tf.keras.losses.sparse_categorical_crossentropy\n",
        "loc_metrics = ['sparse_categorical_accuracy']\n",
        "model.compile(optimizer=loc_optimizer,loss=loc_loss,metrics=loc_metrics)"
      ],
      "execution_count": 0,
      "outputs": []
    },
    {
      "cell_type": "markdown",
      "metadata": {
        "id": "cCSE3iXVJvJs",
        "colab_type": "text"
      },
      "source": [
        "Fitting model..."
      ]
    },
    {
      "cell_type": "code",
      "metadata": {
        "id": "Zikit6idFkJj",
        "colab_type": "code",
        "colab": {}
      },
      "source": [
        "model.fit(x_train.astype(np.float32), y_train.astype(np.float32), verbose = 1, batch_size = 128, epochs=16)"
      ],
      "execution_count": 0,
      "outputs": []
    },
    {
      "cell_type": "markdown",
      "metadata": {
        "id": "v1e4XeRXJ8G0",
        "colab_type": "text"
      },
      "source": [
        "Evaluating model..."
      ]
    },
    {
      "cell_type": "code",
      "metadata": {
        "id": "niuu8BmDFrgD",
        "colab_type": "code",
        "colab": {}
      },
      "source": [
        "score = model.evaluate(x_test.astype(np.float32), y_test.astype(np.float32), verbose = 1)\n",
        "print(\"Loss: \", score[0])\n",
        "print(\"Accuracy: \", score[1])"
      ],
      "execution_count": 0,
      "outputs": []
    },
    {
      "cell_type": "markdown",
      "metadata": {
        "id": "DotC0pGvnXIH",
        "colab_type": "text"
      },
      "source": [
        "Predicting..."
      ]
    },
    {
      "cell_type": "code",
      "metadata": {
        "id": "L2WyrWCdnY3B",
        "colab_type": "code",
        "colab": {
          "base_uri": "https://localhost:8080/",
          "height": 221
        },
        "outputId": "0427e342-6da4-4cc4-8276-f4b2e3b6b077"
      },
      "source": [
        "print(\"Choosing 10 figures randomly from testing dataset: \")\n",
        "\n",
        "idx = []\n",
        "cnt = 0\n",
        "while cnt < 10:\n",
        "  loc_idx = random.randint(0, 10000)\n",
        "  if loc_idx not in idx:\n",
        "    idx.append(loc_idx)\n",
        "    cnt = cnt + 1\n",
        "\n",
        "pred = model.predict_classes(np.array([x_test[e] for e in idx]))\n",
        "judgement = []\n",
        "\n",
        "print(\"{:>8s}{:>18s}{:>18s}{:>12s}\".format(\"Index\", \"Prediction\", \"Actual\", \"Judgement\"))\n",
        "for i in range(10):\n",
        "  loc_idx = idx[i]\n",
        "  loc_pred = label_name[pred[i]]\n",
        "  loc_ans = label_name[y_test[idx[i]]]\n",
        "  loc_judge = pred[i]== y_test[idx[i]]\n",
        "  judgement.append(loc_judge)\n",
        "  print(\"{:>8d}{:>18s}{:>18s}{:>12b}\".format(loc_idx, loc_pred, loc_ans, loc_judge))\n",
        "  \n",
        "for i in range(10):\n",
        "  if not judgement[i]:\n",
        "    loc_idx = idx[i]\n",
        "    plt.figure()\n",
        "    loc_img = np.squeeze(x_test[loc_idx])\n",
        "    plt.imshow(loc_img)\n",
        "    plt.colorbar()\n",
        "    plt.grid(False)\n",
        "    plt.xlabel(\"{:s} is mistaken for {:s}\".format(label_name[y_test[loc_idx]], label_name[pred[i]]))"
      ],
      "execution_count": 117,
      "outputs": [
        {
          "output_type": "stream",
          "text": [
            "Choosing 10 figures randomly from testing dataset: \n",
            "   Index        Prediction            Actual   Judgement\n",
            "    5421            Sandal            Sandal           1\n",
            "     325             Shirt             Shirt           1\n",
            "    7351               Bag               Bag           1\n",
            "    4223          Pullover          Pullover           1\n",
            "    8852           Trouser           Trouser           1\n",
            "    9288           Trouser           Trouser           1\n",
            "    3028       T-shirt/top       T-shirt/top           1\n",
            "     410       T-shirt/top       T-shirt/top           1\n",
            "    4096              Coat              Coat           1\n",
            "    5628              Coat              Coat           1\n"
          ],
          "name": "stdout"
        }
      ]
    },
    {
      "cell_type": "markdown",
      "metadata": {
        "id": "FcGHBpQk0wwh",
        "colab_type": "text"
      },
      "source": [
        "Error Analysis"
      ]
    },
    {
      "cell_type": "code",
      "metadata": {
        "id": "HHfkihUH0PmB",
        "colab_type": "code",
        "colab": {
          "base_uri": "https://localhost:8080/",
          "height": 34
        },
        "outputId": "9f8d90b0-b816-44a0-f062-a2244f61d070"
      },
      "source": [
        "import pandas as pd\n",
        "\n",
        "y_pred=model.predict_classes(x_test)\n",
        "con_mat = tf.confusion_matrix(labels=y_test, predictions=y_pred)\n",
        "print(con_mat)"
      ],
      "execution_count": 118,
      "outputs": [
        {
          "output_type": "stream",
          "text": [
            "Tensor(\"confusion_matrix_21/SparseTensorDenseAdd:0\", shape=(10, 10), dtype=int32)\n"
          ],
          "name": "stdout"
        }
      ]
    }
  ]
}